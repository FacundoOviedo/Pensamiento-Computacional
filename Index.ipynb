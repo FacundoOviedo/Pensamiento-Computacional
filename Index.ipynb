{
 "cells": [
  {
   "cell_type": "code",
   "execution_count": null,
   "metadata": {},
   "outputs": [],
   "source": [
    "\n",
    "#VariableTipo\n",
    "Tipo = \"Totalmente Sintetico\" , \t\n",
    "\"Castrol Edge\" , \t\n",
    "\"Castrol Edge Extented Perfomance\" , \t\t\n",
    "\"Castrol Magnatec Diesel 5W-402\" , \t\t\n",
    "\"Castrol Magnatec Start-Stop\" , \t\t\n",
    "\"Semi-Sinteticos\" , \t\t\n",
    "\"Castrol GTX UltraClean\" , \t\n",
    "\"Castrol Magnatec\" , \t\t\n",
    "\"Convencional\" , \t\t\n",
    "\"Castrol GTX UltraClean\" , \t\n",
    "\"Castrol GTX Diesel\" \n",
    "\n",
    "#VariablesCantidad\n",
    "Cantidad = range(1000)\n",
    "\n",
    "\n",
    "#VariableZona\n",
    "Zona = 1, 2 , 3 , 4\n",
    "\n",
    "#VariableCliente\n",
    "Cliente = \"Import\"\n",
    "\n",
    "#VariableFechaDeEntrega\n",
    "FechadeEntrega = \"Calendar\"\n",
    "\n",
    "\n",
    "\n",
    "\n",
    "\n",
    "while True:\n",
    "        tipo = input('ingrese tipo')\n",
    "        if tipo != \"Totalmente Sintetico\"\"Castrol Edge\"\"Castrol Edge Extented Perfomance\"\"Castrol Magnatec Diesel 5W-402\"\"Castrol Magnatec Start-Stop\"\"Semi-Sinteticos\"\"Castrol GTX UltraClean\"\"Castrol Magnatec\"\"Convencional\"\"Castrol GTX UltraClean\"\"Castrol GTX Diesel\":\n",
    "            print(\"Pone un tipo valido\")\n",
    "        else:\n",
    "            print(\"Genial\")\n",
    "            break\n",
    "        continue\n",
    "\n",
    "while True:\n",
    "        cantidad = int(input('ingrese modelo'))\n",
    "        if cantidad != range(1000):\n",
    "            print(\"elija una cantidad valida\")\n",
    "        else:\n",
    "            print(\"Bien\")\n",
    "            break\n",
    "        continue\n",
    "\n",
    "\n"
   ]
  }
 ],
 "metadata": {
  "kernelspec": {
   "display_name": "Python 3.11.0 64-bit",
   "language": "python",
   "name": "python3"
  },
  "language_info": {
   "name": "python",
   "version": "3.11.0"
  },
  "orig_nbformat": 4,
  "vscode": {
   "interpreter": {
    "hash": "e185605e07e0e4bf821f5c1c9d4adf568dcd01a1004137034153435c61ddb4b4"
   }
  }
 },
 "nbformat": 4,
 "nbformat_minor": 2
}
